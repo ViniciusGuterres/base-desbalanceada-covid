{
  "nbformat": 4,
  "nbformat_minor": 0,
  "metadata": {
    "colab": {
      "provenance": []
    },
    "kernelspec": {
      "name": "python3",
      "display_name": "Python 3"
    },
    "language_info": {
      "name": "python"
    }
  },
  "cells": [
    {
      "cell_type": "code",
      "execution_count": 24,
      "metadata": {
        "id": "msCNEvTbfbJm"
      },
      "outputs": [],
      "source": [
        "import numpy as np\n",
        "import pandas as pd\n",
        "from sklearn.metrics import accuracy_score, classification_report, confusion_matrix\n",
        "from sklearn.model_selection import train_test_split\n",
        "from sklearn.ensemble import RandomForestClassifier\n",
        "from sklearn.preprocessing import MinMaxScaler\n",
        "from imblearn.combine import SMOTETomek\n",
        "import joblib\n"
      ]
    },
    {
      "cell_type": "code",
      "source": [
        "\n",
        "data0 = pd.read_csv(\"/content/drive/MyDrive/colab/BaseCovid/lbp-train-fold_0.csv\")\n",
        "data1 = pd.read_csv(\"/content/drive/MyDrive/colab/BaseCovid/lbp-train-fold_1.csv\")\n",
        "data2 = pd.read_csv(\"/content/drive/MyDrive/colab/BaseCovid/lbp-train-fold_2.csv\")\n",
        "data3 = pd.read_csv(\"/content/drive/MyDrive/colab/BaseCovid/lbp-train-fold_3.csv\")\n",
        "data4 = pd.read_csv(\"/content/drive/MyDrive/colab/BaseCovid/lbp-train-fold_4.csv\")\n",
        "\n",
        "df = pd.concat([data0, data1, data2, data3, data4], ignore_index=True)\n",
        "\n",
        "df = df.dropna()\n",
        "X = df.drop('class', axis=1)\n",
        "y = df['class']\n",
        "\n",
        "X_train, X_test, y_train, y_test = train_test_split(X, y, test_size=0.2, random_state=42, stratify=y)\n",
        "\n",
        "# Normalizar os dados com MinMaxScaler\n",
        "scaler = MinMaxScaler()\n",
        "X_train = scaler.fit_transform(X_train)\n",
        "X_test = scaler.transform(X_test)\n",
        "\n",
        "# Supondo que você tenha um scaler\n",
        "scaler = MinMaxScaler()\n",
        "scaler.fit(X_train)\n",
        "\n",
        "joblib.dump(scaler, '/content/drive/MyDrive/colab/BaseCovid/minmax_scaler.joblib')\n",
        "\n",
        "# Aplicar SMOTETomek com taxa aumentada para classes minoritárias\n",
        "smote_tomek = SMOTETomek(sampling_strategy='auto', random_state=42)\n",
        "X_train_balanced, y_train_balanced = smote_tomek.fit_resample(X_train, y_train)\n",
        "\n",
        "print(\"Distribuição de classes após SMOTETomek:\\n\", pd.Series(y_train_balanced).value_counts())\n",
        "\n",
        "# Treinar o modelo com peso para classes minoritárias\n",
        "clf = RandomForestClassifier(class_weight='balanced_subsample', random_state=42)\n",
        "clf.fit(X_train_balanced, y_train_balanced)\n",
        "\n",
        "y_pred = clf.predict(X_test)\n",
        "\n",
        "accuracy = accuracy_score(y_test, y_pred)\n",
        "print(f\"Acurácia: {accuracy:.2f}\")\n",
        "\n",
        "report = classification_report(y_test, y_pred, zero_division=1)\n",
        "print(\"Relatório de Classificação:\")\n",
        "print(report)\n",
        "\n",
        "conf_matrix = confusion_matrix(y_test, y_pred)\n",
        "print(\"Matriz de Confusão:\")\n",
        "print(conf_matrix)\n",
        "\n",
        "model_filename = '/content/drive/MyDrive/colab/BaseCovid/random_forest_model_smote_tomek_normalized.joblib'\n",
        "joblib.dump(clf, model_filename)\n",
        "print(f\"Modelo salvo em: {model_filename}\")\n"
      ],
      "metadata": {
        "colab": {
          "base_uri": "https://localhost:8080/"
        },
        "id": "rVXypM7Bh96r",
        "outputId": "d47157d7-136b-4536-af58-1491922a6585"
      },
      "execution_count": 42,
      "outputs": [
        {
          "output_type": "stream",
          "name": "stdout",
          "text": [
            "Distribuição de classes após SMOTETomek:\n",
            " class\n",
            "R/Normal                                            560\n",
            "R/Pneumonia/Acellular/Viral/Coronavirus/COVID-19    560\n",
            "R/Pneumonia/Celullar/Bacterial/Streptococcus        560\n",
            "R/Pneumonia/Acellular/Viral/Coronavirus/SARS        560\n",
            "R/Pneumonia/Acellular/Viral/Varicella               560\n",
            "R/Pneumonia/Acellular/Viral/Coronavirus/MERS        560\n",
            "R/Pneumonia/Celullar/Fungus/Pneumocystis            560\n",
            "Name: count, dtype: int64\n",
            "Acurácia: 0.96\n",
            "Relatório de Classificação:\n",
            "                                                  precision    recall  f1-score   support\n",
            "\n",
            "                                        R/Normal       0.97      0.99      0.98       140\n",
            "R/Pneumonia/Acellular/Viral/Coronavirus/COVID-19       0.85      0.85      0.85        13\n",
            "    R/Pneumonia/Acellular/Viral/Coronavirus/MERS       1.00      0.00      0.00         1\n",
            "    R/Pneumonia/Acellular/Viral/Coronavirus/SARS       1.00      0.50      0.67         2\n",
            "           R/Pneumonia/Acellular/Viral/Varicella       1.00      1.00      1.00         1\n",
            "    R/Pneumonia/Celullar/Bacterial/Streptococcus       1.00      1.00      1.00         2\n",
            "        R/Pneumonia/Celullar/Fungus/Pneumocystis       1.00      0.50      0.67         2\n",
            "\n",
            "                                        accuracy                           0.96       161\n",
            "                                       macro avg       0.97      0.69      0.74       161\n",
            "                                    weighted avg       0.96      0.96      0.96       161\n",
            "\n",
            "Matriz de Confusão:\n",
            "[[139   1   0   0   0   0   0]\n",
            " [  2  11   0   0   0   0   0]\n",
            " [  1   0   0   0   0   0   0]\n",
            " [  0   1   0   1   0   0   0]\n",
            " [  0   0   0   0   1   0   0]\n",
            " [  0   0   0   0   0   2   0]\n",
            " [  1   0   0   0   0   0   1]]\n",
            "Modelo salvo em: /content/drive/MyDrive/colab/BaseCovid/random_forest_model_smote_tomek_normalized.joblib\n"
          ]
        }
      ]
    },
    {
      "cell_type": "code",
      "source": [],
      "metadata": {
        "id": "5kine-zyveTm"
      },
      "execution_count": null,
      "outputs": []
    }
  ]
}